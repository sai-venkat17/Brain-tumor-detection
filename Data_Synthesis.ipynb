{
  "cells": [
    {
      "cell_type": "markdown",
      "metadata": {
        "id": "qzmEuK6Ik1AD"
      },
      "source": [
        "# Required Libraries"
      ]
    },
    {
      "cell_type": "code",
      "execution_count": null,
      "metadata": {
        "id": "cZMwj0Ppk1AJ"
      },
      "outputs": [],
      "source": [
        "from keras.preprocessing.image import ImageDataGenerator\n",
        "import cv2\n",
        "from os import listdir  \n",
        "\n"
      ]
    },
    {
      "cell_type": "markdown",
      "metadata": {
        "id": "6yPVsdf2k1AL"
      },
      "source": [
        "# Data Synthesizer "
      ]
    },
    {
      "cell_type": "code",
      "execution_count": null,
      "metadata": {
        "id": "-2mqybcnk1AL"
      },
      "outputs": [],
      "source": [
        "def synth_data(fileDir, n_samples, dirpath):\n",
        "    \n",
        "    img_gen = ImageDataGenerator(rotation_range=10, \n",
        "                                  width_shift_range=0.1, \n",
        "                                  height_shift_range=0.1, \n",
        "                                  shear_range=0.1, \n",
        "                                  brightness_range=(0.3, 1.0),\n",
        "                                  horizontal_flip=True, \n",
        "                                  vertical_flip=True, \n",
        "                                  fill_mode='nearest'\n",
        "                                 )\n",
        "    \n",
        "    for filename in listdir(fileDir):\n",
        "        img = cv2.imread(fileDir + '/' + filename)\n",
        "        img = img.reshape((1,)+img.shape)\n",
        "        save_prefix = 'aug_' + filename[:-4]\n",
        "        i=0\n",
        "        for batch in img_gen.flow(x=img, batch_size=1, save_to_dir=dirpath, \n",
        "                                           save_prefix=save_prefix, save_format='jpg'):\n",
        "            i += 1\n",
        "            if i > n_samples:\n",
        "                break"
      ]
    },
    {
      "cell_type": "code",
      "source": [
        "import zipfile\n",
        "import os\n",
        "\n",
        "!wget --no-check-certificate \\\n",
        "    \"https://github.com/sai-venkat17/Brain-tumor-datasets/archive/refs/heads/master.zip\" \\\n",
        "    -O \"/tmp/dataset.zip\"\n",
        "\n",
        "\n",
        "zip_ref = zipfile.ZipFile('/tmp/dataset.zip', 'r') \n",
        "zip_ref.extractall('/tmp') \n",
        "zip_ref.close()\n"
      ],
      "metadata": {
        "colab": {
          "base_uri": "https://localhost:8080/"
        },
        "id": "Mlli0Ru2po7o",
        "outputId": "b6d006dc-b5bd-4bcf-e4e5-1bfec028fcaa"
      },
      "execution_count": null,
      "outputs": [
        {
          "output_type": "stream",
          "name": "stdout",
          "text": [
            "--2022-04-25 07:37:20--  https://github.com/sai-venkat17/Brain-tumor-datasets/archive/refs/heads/master.zip\n",
            "Resolving github.com (github.com)... 140.82.112.4\n",
            "Connecting to github.com (github.com)|140.82.112.4|:443... connected.\n",
            "HTTP request sent, awaiting response... 302 Found\n",
            "Location: https://codeload.github.com/sai-venkat17/Brain-tumor-datasets/zip/refs/heads/master [following]\n",
            "--2022-04-25 07:37:20--  https://codeload.github.com/sai-venkat17/Brain-tumor-datasets/zip/refs/heads/master\n",
            "Resolving codeload.github.com (codeload.github.com)... 140.82.114.9\n",
            "Connecting to codeload.github.com (codeload.github.com)|140.82.114.9|:443... connected.\n",
            "HTTP request sent, awaiting response... 200 OK\n",
            "Length: unspecified [application/zip]\n",
            "Saving to: ‘/tmp/dataset.zip’\n",
            "\n",
            "/tmp/dataset.zip        [  <=>               ]   7.55M  21.7MB/s    in 0.3s    \n",
            "\n",
            "2022-04-25 07:37:21 (21.7 MB/s) - ‘/tmp/dataset.zip’ saved [7915948]\n",
            "\n"
          ]
        }
      ]
    },
    {
      "cell_type": "code",
      "execution_count": null,
      "metadata": {
        "id": "xXTF5vDmk1AM"
      },
      "outputs": [],
      "source": [
        "\n",
        "synthesized_data_path = '/tmp/Brain-tumor-datasets-master/synthesized_data/'\n",
        "\n",
        "synth_data(fileDir='/tmp/Brain-tumor-datasets-master/yes/', n_samples=2, dirpath=augmented_data_path+'yes')\n",
        "\n",
        "synth_data(fileDir='/tmp/Brain-tumor-datasets-master/no/', n_samples=3, dirpath=augmented_data_path+'no')\n"
      ]
    },
    {
      "cell_type": "markdown",
      "metadata": {
        "id": "F_blc3w1k1AN"
      },
      "source": [
        "# Summary"
      ]
    },
    {
      "cell_type": "code",
      "execution_count": null,
      "metadata": {
        "id": "hYa_C25Fk1AO"
      },
      "outputs": [],
      "source": [
        "def summary(main_path):\n",
        "    \n",
        "    yes_path = main_path+'yes'\n",
        "    no_path = main_path+'no'\n",
        "    pos = len(listdir(yes_path))\n",
        "    neg = len(listdir(no_path))\n",
        "    tot = (pos+neg)\n",
        "    \n",
        "    pos_prec = (pos* 100.0)/ tot\n",
        "    neg_prec = (neg* 100.0)/ tot\n",
        "    \n",
        "    print(f\"Number of examples: {tot}\")\n",
        "    print(f\"Percentage of tumorous examples: {pos_prec}%, number of tumorous examples: {pos}\") \n",
        "    print(f\"Percentage of non-tumorous examples: {neg_prec}%, number of non-tumorous examples: {neg}\") "
      ]
    },
    {
      "cell_type": "code",
      "execution_count": null,
      "metadata": {
        "id": "BCPZ9rd5k1AP",
        "outputId": "446616c5-1450-47eb-c4be-fc32aebd9b5b",
        "colab": {
          "base_uri": "https://localhost:8080/"
        }
      },
      "outputs": [
        {
          "output_type": "stream",
          "name": "stdout",
          "text": [
            "Number of examples: 857\n",
            "Percentage of tumorous examples: 54.25904317386231%, number of tumorous examples: 465\n",
            "Percentage of non-tumorous examples: 45.74095682613769%, number of non-tumorous examples: 392\n"
          ]
        }
      ],
      "source": [
        "summary(synthesized_data_path)"
      ]
    }
  ],
  "metadata": {
    "kernelspec": {
      "display_name": "Python 3",
      "language": "python",
      "name": "python3"
    },
    "language_info": {
      "codemirror_mode": {
        "name": "ipython",
        "version": 3
      },
      "file_extension": ".py",
      "mimetype": "text/x-python",
      "name": "python",
      "nbconvert_exporter": "python",
      "pygments_lexer": "ipython3",
      "version": "3.7.6"
    },
    "colab": {
      "name": "Data Synthesis.ipynb",
      "provenance": [],
      "collapsed_sections": []
    }
  },
  "nbformat": 4,
  "nbformat_minor": 0
}